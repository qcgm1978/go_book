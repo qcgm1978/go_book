{
 "cells": [
  {
   "cell_type": "markdown",
   "metadata": {},
   "source": [
    "(Part-2)=\n",
    "## Part 2. Machine learning and game AI\n",
    "In [part 2](Part-2), you’ll learn the components of both classical and modern game AI. You’ll start with a variety of tree search algorithms, which are essential tools in game AI and all kinds of optimization problems. Next, you’ll learn about deep learning and neural networks, starting from the mathematical basics and working up to many practical design considerations. Finally, you’ll get an introduction to reinforcement learning, a framework where your game AI can improve through practice.\n",
    "\n",
    "Of course, none of these techniques are limited to games. Once you’ve mastered the components, you’ll start seeing opportunities to apply them in all sorts of domains."
   ]
  }
 ],
 "metadata": {
  "interpreter": {
   "hash": "aee8b7b246df8f9039afb4144a1f6fd8d2ca17a180786b69acc140d282b71a49"
  },
  "kernelspec": {
   "display_name": "Python 3.8.6 64-bit",
   "language": "python",
   "name": "python3"
  },
  "language_info": {
   "name": "python",
   "version": "3.8.6"
  },
  "orig_nbformat": 4
 },
 "nbformat": 4,
 "nbformat_minor": 2
}
