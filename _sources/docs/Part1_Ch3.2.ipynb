{
 "cells": [
  {
   "cell_type": "markdown",
   "metadata": {},
   "source": [
    "#### 3.2. Capturing game state and checking for illegal moves\n"
   ]
  },
  {
   "cell_type": "markdown",
   "metadata": {},
   "source": [
    "Now that you’ve implemented the rules for placing and capturing stones on a `Board`, let’s move on to playing games by capturing the current state of a game in a `GameState` class. Roughly speaking, __game state__ knows about the board position, the next player, the previous game state, and the last move that has been played. What follows is just the beginning of the definition. You’ll add more functionality to `GameState` throughout this section. Again, you put this into goboard_slow.py.\n",
    "\n"
   ]
  },
  {
   "cell_type": "code",
   "execution_count": 27,
   "metadata": {},
   "outputs": [],
   "source": [
    "# Listing 3.10. Encoding game state for a game of Go\n",
    "class GameState():\n",
    "    \"\"\" \n",
    "    >>> from dlgo.goboard_fast import Move,GoString,Board,GameState\n",
    "    >>> g=get_game_state()\n",
    "    >>> gg=g.new_game(19)\n",
    "    >>> isinstance(gg,GameState)\n",
    "    True\n",
    "    \"\"\"\n",
    "    def __init__(self, board, next_player, previous, move):\n",
    "        self.board = board\n",
    "        self.next_player = next_player\n",
    "        self.previous_state = previous\n",
    "        self.last_move = move\n",
    "\n",
    "    def apply_move(self, move):\n",
    "        if move.is_play:\n",
    "            next_board = copy.deepcopy(self.board)\n",
    "            next_board.place_stone(self.next_player, move.point)\n",
    "        else:\n",
    "            next_board = self.board\n",
    "        return GameState(next_board, self.next_player.other, self, move)\n",
    "\n",
    "    @classmethod\n",
    "    def new_game(cls, board_size=19):\n",
    "        if isinstance(board_size, int):\n",
    "            board_size = (board_size, board_size)\n",
    "        board = Board(*board_size)\n",
    "        return GameState(board, Player.black, None, None)\n",
    "\n"
   ]
  },
  {
   "cell_type": "markdown",
   "metadata": {},
   "source": [
    "At this point, you can already decide when a game is over by adding the following code to your `GameState` class.\n",
    "\n"
   ]
  },
  {
   "cell_type": "code",
   "execution_count": 28,
   "metadata": {},
   "outputs": [],
   "source": [
    "# Listing 3.11. Deciding when a game of Go is over\n",
    "def is_over(self):\n",
    "    if self.last_move is None:\n",
    "        return False\n",
    "    if self.last_move.is_resign:\n",
    "        return True\n",
    "    second_last_move = self.previous_state.last_move\n",
    "    if second_last_move is None:\n",
    "        return False\n",
    "    return self.last_move.is_pass and second_last_move.is_pass"
   ]
  },
  {
   "cell_type": "markdown",
   "metadata": {},
   "source": [
    "Now that you’ve implemented how to apply a move to the current game state, using apply_move, you should also write code to identify which moves are legal. Humans may accidentally attempt an illegal move. Bots might attempt illegal moves because they don’t know any better. You need to check three rules:\n",
    "\n",
    "- Confirm that the point you want to play is empty.\n",
    "- Check that the move isn’t a self-capture.\n",
    "- Confirm that the move doesn’t violate the ko rule.\n",
    "\n",
    "Although the first point is trivial to implement, the other two deserve separate treatment, because they’re rather tricky to handle properly."
   ]
  },
  {
   "cell_type": "markdown",
   "metadata": {},
   "source": [
    "##### 3.2.1. Self-capture\n",
    "When a string of your stones has only one liberty left and you play at the point that removes that liberty, we call that a `self-capture`. For instance, in figure 3.3, the black stones are doomed."
   ]
  },
  {
   "cell_type": "markdown",
   "metadata": {},
   "source": [
    "__Figure 3.3. In this Go board state, the three black stones have one liberty left; namely, the marked point. You enforce the self-capture rule, so black isn’t allowed to play there. White, on the other hand, can capture the three black stones by playing on the marked point.__\n",
    "<p align=\"center\">\n",
    "     <img src=\"https://drek4537l1klr.cloudfront.net/pumperla/Figures/03fig03.jpg\" alt=\"string\">\n",
    "</p>\n"
   ]
  },
  {
   "cell_type": "markdown",
   "metadata": {},
   "source": [
    "White can capture them at any time by playing on the marked point, and black has no way to prevent it. But what if black played on the marked point? The entire group would have no liberties and would then be captured. Most rule sets forbid such a play, although a few exceptions exist. Most notably, self-capture is allowed in the quadrennial Ing Cup, which is one of the biggest prizes in international Go.\n",
    "\n",
    "You’ll enforce the self-capture rule in your code. This is consistent with the most popular rule sets, and it also reduces the number of moves your bots need to consider. It’s possible to contrive a position where self-capture is the best move, but such situations are basically unheard of in serious games.\n",
    "\n",
    "If you alter the surrounding stones in figure 3.3 slightly, you end up with a completely different situation, shown in figure 3.4."
   ]
  },
  {
   "cell_type": "markdown",
   "metadata": {},
   "source": [
    "__Figure 3.4. In this situation, the marked point is a capture for black, not suicide, because black will capture two white stones and thereby regain two liberties.__\n",
    "<p align=\"center\">\n",
    "     <img src=\"https://drek4537l1klr.cloudfront.net/pumperla/Figures/03fig04.jpg\" alt=\"string\">\n",
    "</p>"
   ]
  },
  {
   "cell_type": "markdown",
   "metadata": {},
   "source": [
    "Note that in figure 3.4, and in general, you must remove opponent stones first before checking whether the newly played stone has any liberties. In all rule sets, this next move is a valid capture, not a self-capture, because black will regain two liberties by capturing the two white stones.\n",
    "\n",
    "Note that the `Board` class does permit self-capture, but in __GameState__ you’ll enforce the rule by applying the move to a copy of the board and checking the number of liberties afterward."
   ]
  },
  {
   "cell_type": "code",
   "execution_count": 29,
   "metadata": {},
   "outputs": [],
   "source": [
    "# Listing 3.12. Continuing our definition of GameState to enforce the self-capture rule\n",
    "def is_move_self_capture(self, player, move):\n",
    "    if not move.is_play:\n",
    "        return False\n",
    "    next_board = copy.deepcopy(self.board)\n",
    "    next_board.place_stone(player, move.point)\n",
    "    new_string = next_board.get_go_string(move.point)\n",
    "    return new_string.num_liberties == 0"
   ]
  },
  {
   "cell_type": "markdown",
   "metadata": {},
   "source": [
    "##### 3.2.2. Ko\n",
    "Having checked for self-capture, you can now move on to implement the ko rule. Chapter 2 briefly covered ko and its importance in the game of Go. Roughly speaking, the ko rule applies if a move would return the board to the exact previous position. This doesn’t imply that a player can’t hit back immediately, as the following sequence of diagrams shows. In figure 3.5, white has just played the isolated stone on the bottom. Black’s two stones now have only a single liberty left—but so does this white stone."
   ]
  },
  {
   "cell_type": "code",
   "execution_count": 30,
   "metadata": {},
   "outputs": [
    {
     "data": {
      "text/plain": [
       "TestResults(failed=0, attempted=4)"
      ]
     },
     "execution_count": 30,
     "metadata": {},
     "output_type": "execute_result"
    }
   ],
   "source": [
    "import doctest\n",
    "from summary import get_game_state\n",
    "doctest.testmod()"
   ]
  }
 ],
 "metadata": {
  "interpreter": {
   "hash": "aee8b7b246df8f9039afb4144a1f6fd8d2ca17a180786b69acc140d282b71a49"
  },
  "kernelspec": {
   "display_name": "Python 3.8.6 64-bit",
   "language": "python",
   "name": "python3"
  },
  "language_info": {
   "codemirror_mode": {
    "name": "ipython",
    "version": 3
   },
   "file_extension": ".py",
   "mimetype": "text/x-python",
   "name": "python",
   "nbconvert_exporter": "python",
   "pygments_lexer": "ipython3",
   "version": "3.8.6"
  },
  "orig_nbformat": 4
 },
 "nbformat": 4,
 "nbformat_minor": 2
}
