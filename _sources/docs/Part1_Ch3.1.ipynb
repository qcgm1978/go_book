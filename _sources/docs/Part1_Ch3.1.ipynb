{
 "cells": [
  {
   "cell_type": "markdown",
   "metadata": {},
   "source": [
    "#### 3.1. Representing a game of Go in Python\n",
    "The game of Go is played on a square board. Usually, beginners start playing on a 9 × 9 or 13 × 13 board, and advanced and pro players play on a 19 × 19 board. But in principle, Go can be played on a board of any size. Implementing a square grid for the game is fairly simple, but you’ll need to take care of a lot of intricacies down the line.\n",
    "\n",
    "You represent a Go game in Python by building a module we’ll call dlgo step-by-step. Throughout the chapter, you’ll be asked to create files and implement classes and functions that will eventually lead to your first bot. All the code from this and later chapters can be found on GitHub at http://mng.bz/gYPe.\n",
    "\n",
    "Although you should definitely clone this repository for reference, we strongly encourage you to follow along by creating the files from scratch to see how the library builds up piece by piece. The master branch of our GitHub repository contains all the code used in this book (and more). From this chapter on, there’s additionally a specific Git branch for each chapter that has only the code you need for the given chapter. For instance, the code for this chapter can be found in branch chapter_3. The next chapters follow the same naming convention. Note that we’ve included extensive tests for most of the code found here and in later chapters in the GitHub repository.\n",
    "\n",
    "To build a Python library to represent Go, you need a data model that’s flexible enough to support a few use cases:\n",
    "\n",
    "- Track the progress of a game you’re playing against a human opponent.\n",
    "- Track the progress of a game between two bots. This might seem to be exactly the same as the preceding point, but as it turns out, a few subtle differences exist. Most notably, naive bots have a hard time recognizing when the game is over. Playing two simple bots against each other is an important technique used in later chapters, so it’s worth calling out here.\n",
    "- Compare many prospective sequences from the same board position.\n",
    "- Import game records and generate training data from them.\n",
    "\n",
    "First, create a new folder, dlgo, and place an empty \\__init__.py file into it to initiate it as a Python module. Also, create two additional files called gotypes.py and goboard_slow.py in which you’ll put all board- and game-play functionality. Your folder structure at this point should look as follows:"
   ]
  },
  {
   "cell_type": "markdown",
   "metadata": {},
   "source": [
    "\n",
    "__dlgo__\\\n",
    "$~~~~~~$ \\_\\___init____.$\\color{brown}{\\text{py}}$\n",
    "\\\n",
    "$~~~~~~$ __gotypes__.$\\color{brown}\\text{py}$\\\n",
    "$~~~~~~$ __goboard_slow__.$\\color{brown}\\text{py}$"
   ]
  },
  {
   "cell_type": "markdown",
   "metadata": {},
   "source": [
    "Black and white players take turns in Go, and you use `enum` to represent the different-colored stones. A `Player` is either `black` or `white`. After a player places a stone, you can switch the color by calling the `other` method on a `Player` instance. Put this `Player` class into gotypes.py.\n",
    "\n"
   ]
  },
  {
   "cell_type": "code",
   "execution_count": 288,
   "metadata": {},
   "outputs": [],
   "source": [
    "# Listing 3.1. Using an enum to represent players\n",
    "\n",
    "import enum\n",
    "\n",
    "\n",
    "class Player(enum.Enum):\n",
    "    \"\"\" \n",
    "    >>> Player.black.value\n",
    "    1\n",
    "    \"\"\"\n",
    "    black = 1\n",
    "    white = 2\n",
    "\n",
    "    @property\n",
    "    def other(self):\n",
    "        return Player.black if self == Player.white else Player.white"
   ]
  },
  {
   "cell_type": "markdown",
   "metadata": {},
   "source": [
    "As noted in the front matter, we’re using Python 3 for this book. One of the reasons is that many modern aspects of the language, such as enums in gotypes.py, are part of the standard library in Python 3.\n",
    "\n",
    "Next, to represent coordinates on the board, tuples are an obvious choice. The following `Point` class also goes into gotypes.py."
   ]
  },
  {
   "cell_type": "code",
   "execution_count": 289,
   "metadata": {},
   "outputs": [],
   "source": [
    "# Listing 3.2. Using tuples to represent points of a Go board\n",
    "from collections import namedtuple\n",
    "\n",
    "\n",
    "class Point(namedtuple('Point', 'row col')):\n",
    "    \"\"\" \n",
    "    >>> p=Point(1,col=2)\n",
    "    >>> p\n",
    "    Point(row=1, col=2)\n",
    "    >>> p.row\n",
    "    1\n",
    "    \"\"\"\n",
    "    def neighbors(self):\n",
    "        return [\n",
    "            Point(self.row - 1, self.col),\n",
    "            Point(self.row + 1, self.col),\n",
    "            Point(self.row, self.col - 1),\n",
    "            Point(self.row, self.col + 1),\n",
    "        ]"
   ]
  },
  {
   "cell_type": "markdown",
   "metadata": {},
   "source": [
    "A `namedtuple` lets you access the coordinates as point.row and point.col instead of `point[0]` and `point[1]`, which makes for much better readability.\n",
    "\n",
    "You also need a structure to represent the actions a player can take on a turn. Normally, a turn involves placing a stone on the board, but a player can also pass or resign at any time. Following American Go Association (AGA) conventions, we use the term move to mean any of those three actions, whereas a play refers to placing a stone. In the `Move` class, you therefore encode all three types of move (play, pass, resign) and make sure a move has precisely one of these types. For actual plays, you need to pass a `Point` to be placed. You add this `Move` class to the file goboard_slow.py."
   ]
  },
  {
   "cell_type": "code",
   "execution_count": 290,
   "metadata": {},
   "outputs": [],
   "source": [
    "# Listing 3.3. Setting moves: plays, passes, or resigns\n",
    "import copy\n",
    "from dlgo.gotypes import Player\n",
    "\n",
    "class Move():\n",
    "    def __init__(self, point=None, is_pass=False, is_resign=False):\n",
    "        \"\"\" \n",
    "        It's a bitwise XOR (exclusive OR).\n",
    "        It results to true if one (and only one) of the operands (evaluates to) true.\n",
    "        >>> 0^0\n",
    "        0\n",
    "        >>> 1^1\n",
    "        0\n",
    "        >>> 1^0\n",
    "        1\n",
    "        >>> 0^1\n",
    "        1\n",
    "        >>> 0^1^0\n",
    "        1\n",
    "        >>> 0^1^1\n",
    "        0\n",
    "        >>> bin(8)\n",
    "        '0b1000'\n",
    "        >>> bin(3)\n",
    "        '0b11'\n",
    "        >>> bin(11)\n",
    "        '0b1011'\n",
    "        >>> 8^3\n",
    "        11\n",
    "         \"\"\"\n",
    "        assert (point is not None) ^ is_pass ^ is_resign\n",
    "        self.point = point\n",
    "        self.is_play = (self.point is not None)\n",
    "        self.is_pass = is_pass\n",
    "        self.is_resign = is_resign\n",
    "\n",
    "    @classmethod\n",
    "    def play(cls, point):\n",
    "        return Move(point=point)\n",
    "\n",
    "    @classmethod\n",
    "    def pass_turn(cls):\n",
    "        return Move(is_pass=True)\n",
    "\n",
    "    @classmethod\n",
    "    def resign(cls):\n",
    "        return Move(is_resign=True)\n",
    "\n"
   ]
  },
  {
   "cell_type": "markdown",
   "metadata": {},
   "source": [
    "In what follows, clients generally won’t call the `Move` constructor directly. Instead, you usually call `Move.play`, `Move.pass_turn`, or `Move.resign` to construct an instance of a move.\n",
    "\n",
    "Note that so far, the `Player`, `Point`, and `Move` classes are all plain data types. Although they’re fundamental to representing the board, they don’t contain any game logic. This is done on purpose, and you’ll benefit from separating game-play concerns like this.\n",
    "\n",
    "Next, you implement classes that can update the game state by using the preceding three classes:\n",
    "\n",
    "- The `Board` class is responsible for the logic of placing and capturing stones.\n",
    "- The `GameState` class includes all the stones of the board, as well as tracking whose turn it is and what the previous state was.\n",
    "\n",
    "##### 3.1.1. Implementing the Go board\n",
    "\n",
    "Before turning to `GameState`, let’s first implement the Board class. Your first idea might be to create a 19 × 19 array tracking the state of each point in the board, and that’s a good starting point. Now, think about the algorithm for checking when you need to remove stones from the board. Recall that the number of liberties of a single stone is defined by the number of empty points in its direct neighborhood. If all four neighboring points are occupied by an enemy stone, the stone has no liberties left and is captured. For larger groups of connected stones, the situation is more difficult to check. For instance, after placing a black stone, you have to check all neighboring white stones to see whether black captured any stones that you have to remove. Specifically, you have to check the following:\n",
    "\n",
    "1. You see whether any neighbors have any liberties left.\n",
    "2. You check whether any of the neighbors’ neighbors have any liberties left.\n",
    "3. You examine the neighbors’ neighbors’ neighbors, and so forth.\n",
    "This procedure could require hundreds of steps to finish. Imagine a long chain snaking through the opponent’s territory on a board with 200 moves played already. To speed this up, you can explicitly track all directly connected stones as a unit.\n",
    "\n",
    "##### 3.1.2. Tracking connected groups of stones in Go: strings\n",
    "You saw in the preceding section that viewing stones in isolation can lead to an increased computational complexity. Instead, you’ll keep track of groups of connected stones of the same color `and their liberties` at the same time. Doing so is much more efficient when implementing game logic.\n",
    "\n",
    "You call a group of connected stones of the same color a `string of stones`, or simply a string, as shown in figure 3.1. You can build this structure efficiently with the Python `set` type as in the following `GoString` implementation, which you also put into goboard_slow.py."
   ]
  },
  {
   "cell_type": "code",
   "execution_count": 291,
   "metadata": {},
   "outputs": [],
   "source": [
    "# Listing 3.4. Encoding strings of stones with `set`\n",
    "class GoString():\n",
    "    \"\"\"\n",
    "    >>> liberties=[8]\n",
    "    >>> g=GoString('w','abc',liberties)\n",
    "    >>> g.remove_liberty(8)\n",
    "    >>> g.num_liberties\n",
    "    0\n",
    "    >>> g.remove_liberty(8)\n",
    "    Traceback (most recent call last):\n",
    "        ...\n",
    "    KeyError: 8\n",
    "    \n",
    "    Furthermore, note the merged_with method of GoString, which is called when a player connects two of its groups by placing a stone.\n",
    "    >>> len(g.merged_with(g).liberties)\n",
    "    0\n",
    "    >>> g.add_liberty(9)\n",
    "    >>> g.liberties\n",
    "    {9}\n",
    "    \"\"\"\n",
    "    def __init__(self, color, stones, liberties):\n",
    "        self.color = color\n",
    "        self.stones = set(stones)\n",
    "        self.liberties = set(liberties)\n",
    "\n",
    "    def remove_liberty(self, point):\n",
    "        self.liberties.remove(point)\n",
    "\n",
    "    def add_liberty(self, point):\n",
    "        self.liberties.add(point)\n",
    "\n",
    "    def merged_with(self, go_string):\n",
    "        assert go_string.color == self.color\n",
    "        combined_stones = self.stones | go_string.stones\n",
    "        return GoString(\n",
    "            self.color,\n",
    "            combined_stones,\n",
    "            (self.liberties | go_string.liberties) - combined_stones)\n",
    "\n",
    "    @property\n",
    "    def num_liberties(self):\n",
    "        return len(self.liberties)\n",
    "\n",
    "    def __eq__(self, other):\n",
    "        return isinstance(other, GoString) and \\\n",
    "            self.color == other.color and \\\n",
    "            self.stones == other.stones and \\\n",
    "            self.liberties == other.liberties\n",
    "\n"
   ]
  },
  {
   "cell_type": "markdown",
   "metadata": {},
   "source": [
    "__Figure 3.1. In this Go game, black has three strings of stones, and white has two. The large white string has six liberties, and the single white stone has only three.__\n",
    " <p align=\"center\">\n",
    "     <img src=\"https://drek4537l1klr.cloudfront.net/pumperla/Figures/03fig01.jpg\" alt=\"string\">\n",
    "</p>"
   ]
  },
  {
   "cell_type": "markdown",
   "metadata": {},
   "source": [
    "Note that `GoString` directly tracks its own liberties, and you can access the number of liberties at any point by calling `num_liberties`, which is much more efficient than the preceding naive approach starting from individual stones.\n",
    "\n",
    "Also, you have the ability to add and remove liberties from the given string by using `remove_liberty` and `add_liberty`. Liberties of a string will usually decrease when opponents play next to this string, and increase when this or another group captures opposing stones adjacent to this string.\n",
    "\n",
    "Furthermore, note the `merged_with` method of `GoString`, which is called when a player connects two of its groups by placing a stone."
   ]
  },
  {
   "cell_type": "markdown",
   "metadata": {},
   "source": [
    "##### 3.1.3. Placing and capturing stones on a Go board\n",
    "After having discussed stones and strings of stones, the natural next step is to discuss how to place stones on the board. Using the `GoString` class from listing 3.4, the algorithm for placing a stone looks like this:\n",
    "\n",
    "1. Merge any adjacent strings of the same color.\n",
    "2. Reduce liberties of any adjacent strings of the opposite color.\n",
    "3. If any opposite-color strings now have zero liberties, remove them.\n",
    "\n",
    "Also, if the newly created string has zero liberties, you reject the move. This leads naturally to the following implementation of the Go `Board` class, which you also place at goboard_slow.py. You allow boards to have any number of rows or columns by instantiating them with `num_rows` and `num_cols` appropriately. To keep track of the board state internally, you use the private variable `_grid`, a dictionary you use to store strings of stones. First off, let’s initiate a Go board instance by specifying its size.\n",
    "\n"
   ]
  },
  {
   "cell_type": "code",
   "execution_count": 292,
   "metadata": {},
   "outputs": [],
   "source": [
    "# Listing 3.5. Creating a Go Board instance\n",
    "class Board():\n",
    "    \"\"\" \n",
    "    You allow boards to have any number of rows or columns by instantiating them with num_rows and num_cols appropriately\n",
    "    >>> b=Board()\n",
    "    >>> b.num_rows\n",
    "    19\n",
    "    >>> b._grid\n",
    "    {}\n",
    "    >>> isinstance(b._grid,dict)\n",
    "    True\n",
    "     \"\"\"\n",
    "    def __init__(self, num_rows=19, num_cols=19):\n",
    "        self.num_rows = num_rows\n",
    "        self.num_cols = num_cols\n",
    "        self._grid = {}\n",
    "\n"
   ]
  },
  {
   "cell_type": "markdown",
   "metadata": {},
   "source": [
    "Next, we discuss the `Board` method to place stones. In `place_stone`, you first have to inspect all neighboring stones of a given point for liberties."
   ]
  },
  {
   "cell_type": "code",
   "execution_count": 293,
   "metadata": {},
   "outputs": [],
   "source": [
    "# Listing 3.6. Checking neighboring points for liberties\n",
    "def place_stone(self, player, point):\n",
    "    \"\"\" \n",
    "    >>> from dlgo.gotypes import Point\n",
    "    >>> from dlgo.goboard_slow import Board\n",
    "    >>> b=Board()\n",
    "    >>> p=Point(1,col=2)\n",
    "    >>> b.place_stone('w',p)\n",
    "    >>> b._grid[p].num_liberties\n",
    "    3\n",
    "    \"\"\"\n",
    "    assert self.is_on_grid(point)\n",
    "    assert self._grid.get(point) is None\n",
    "    adjacent_same_color = []\n",
    "    adjacent_opposite_color = []\n",
    "    liberties = []\n",
    "    for neighbor in point.neighbors():\n",
    "        if not self.is_on_grid(neighbor):\n",
    "            continue\n",
    "        neighbor_string = self._grid.get(neighbor)\n",
    "        if neighbor_string is None:\n",
    "            liberties.append(neighbor)\n",
    "        elif neighbor_string.color == player:\n",
    "            if neighbor_string not in adjacent_same_color:\n",
    "                adjacent_same_color.append(neighbor_string)\n",
    "        else:\n",
    "            if neighbor_string not in adjacent_opposite_color:\n",
    "                adjacent_opposite_color.append(neighbor_string)\n",
    "    new_string = GoString(player, [point], liberties)\n",
    "\n"
   ]
  },
  {
   "cell_type": "markdown",
   "metadata": {},
   "source": [
    "Note that the first two lines in listing 3.6 use utility methods to check whether the point is within bounds for the given board and that the point hasn’t been played yet. These two methods are defined as follows.\n",
    "\n"
   ]
  },
  {
   "cell_type": "code",
   "execution_count": 294,
   "metadata": {},
   "outputs": [],
   "source": [
    "# Listing 3.7. Utility methods for placing and removing stones\n",
    "def is_on_grid(self, point):\n",
    "    \"\"\" \n",
    "    >>> from dlgo.gotypes import Point\n",
    "    >>> from dlgo.goboard_slow import Board\n",
    "    >>> b=Board()\n",
    "    >>> p=Point(row=1,col=2)\n",
    "    >>> b.is_on_grid(p)\n",
    "    True\n",
    "    >>> b.get_go_string(p)==b._grid.get(p)\n",
    "    True\n",
    "    >>> b._grid\n",
    "    {}\n",
    "     \"\"\"\n",
    "    return 1 <= point.row <= self.num_rows and \\\n",
    "        1 <= point.col <= self.num_cols\n",
    "\n",
    "def get(self, point):\n",
    "    string = self._grid.get(point)\n",
    "    if string is None:\n",
    "        return None\n",
    "    return string.color\n",
    "\n",
    "def get_go_string(self, point):\n",
    "    string = self._grid.get(point)\n",
    "    if string is None:\n",
    "        return None\n",
    "    return string\n",
    "\n"
   ]
  },
  {
   "cell_type": "markdown",
   "metadata": {},
   "source": [
    "Note that you also define `get_go_string` to return the string of stones associated with a given point. This functionality can be helpful in general, but it’s particularly valuable to prevent `self-capture`, which we’ll discuss in more detail in section 3.2.\n",
    "\n",
    "Continuing with the definition of `place_stone` in listing 3.6, right after defining `new_string`, you follow the outlined three-step approach shown next."
   ]
  },
  {
   "cell_type": "markdown",
   "metadata": {},
   "source": [
    "Listing 3.8. Continuing our definition of place_stone\n",
    "\n",
    "```python\n",
    "for same_color_string in adjacent_same_color:\n",
    "    new_string = new_string.merged_with(same_color_string)\n",
    "for new_string_point in new_string.stones:\n",
    "    self._grid[new_string_point] = new_string\n",
    "for other_color_string in adjacent_opposite_color:\n",
    "    other_color_string.remove_liberty(point)\n",
    "for other_color_string in adjacent_opposite_color:\n",
    "    if other_color_string.num_liberties == 0:\n",
    "        self._remove_string(other_color_string)\n",
    "```"
   ]
  },
  {
   "cell_type": "markdown",
   "metadata": {},
   "source": [
    "Now, the only thing missing in our definition of a Go board is how to remove a string of stones, as required in `remove_string` in the last line of listing 3.8. This is fairly simple, as shown in listing 3.9, but you have to keep in mind that other stones might gain liberties when removing an enemy string. For instance, in figure 3.2, you can see that black can capture a white stone, thereby gaining one additional liberty for each black string of stones."
   ]
  },
  {
   "cell_type": "code",
   "execution_count": null,
   "metadata": {},
   "outputs": [],
   "source": [
    "# Listing 3.9. Continuing our definition of place_stone\n",
    "def _remove_string(self, string):\n",
    "    for point in string.stones:\n",
    "        for neighbor in point.neighbors():\n",
    "            neighbor_string = self._grid.get(neighbor)\n",
    "            if neighbor_string is None:\n",
    "                continue\n",
    "            if neighbor_string is not string:\n",
    "                neighbor_string.add_liberty(point)\n",
    "        self._grid[point] = None\n",
    "\n"
   ]
  },
  {
   "cell_type": "markdown",
   "metadata": {},
   "source": [
    "__Figure 3.2. Black can capture a white stone, thereby regaining a liberty for each of the Go strings adjacent to the captured stone.__\n",
    "\n",
    "![gain liberties by capture](https://drek4537l1klr.cloudfront.net/pumperla/Figures/03fig02_alt.jpg)\n"
   ]
  },
  {
   "cell_type": "markdown",
   "metadata": {},
   "source": [
    "This definition concludes our `Board` implementation.\n",
    "\n"
   ]
  },
  {
   "cell_type": "code",
   "execution_count": null,
   "metadata": {},
   "outputs": [
    {
     "data": {
      "text/plain": [
       "TestResults(failed=0, attempted=38)"
      ]
     },
     "execution_count": 287,
     "metadata": {},
     "output_type": "execute_result"
    }
   ],
   "source": [
    "import doctest\n",
    "doctest.testmod()"
   ]
  }
 ],
 "metadata": {
  "interpreter": {
   "hash": "aee8b7b246df8f9039afb4144a1f6fd8d2ca17a180786b69acc140d282b71a49"
  },
  "kernelspec": {
   "display_name": "Python 3.8.6 64-bit",
   "language": "python",
   "name": "python3"
  },
  "language_info": {
   "codemirror_mode": {
    "name": "ipython",
    "version": 3
   },
   "file_extension": ".py",
   "mimetype": "text/x-python",
   "name": "python",
   "nbconvert_exporter": "python",
   "pygments_lexer": "ipython3",
   "version": "3.8.6"
  },
  "orig_nbformat": 4
 },
 "nbformat": 4,
 "nbformat_minor": 2
}
