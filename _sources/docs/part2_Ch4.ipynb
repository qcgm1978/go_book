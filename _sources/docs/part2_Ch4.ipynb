{
 "cells": [
  {
   "cell_type": "markdown",
   "metadata": {},
   "source": [
    "(chapter-4):\n",
    "### Chapter 4. Playing games with tree search\n",
    "This chapter covers\n",
    "Finding the best move with the minimax algorithm\n",
    "Pruning minimax tree search to speed it up\n",
    "Applying Monte Carlo tree search to games\n",
    "Suppose you’re given two tasks. The first is to write a computer program that plays chess. The second is to write a program that plans how to efficiently pick orders in a warehouse. What could these programs have in common? At first glance, not much. But if you step back and think in abstract terms, you can see a few parallels:\n",
    "\n",
    "You have a sequence of decisions to make. In chess, your decisions are about which piece to move. In the warehouse, your decisions are about which item to pick up next.\n",
    "Early decisions can affect future decisions. In chess, moving a pawn early on may expose your queen to a counterattack many turns later. In the warehouse, if you go for a widget on shelf 17 first, you may need to backtrack all the way to shelf 99 later.\n",
    "At the end of a sequence, you can evaluate how well you achieved your goal. In chess, when you reach the end of the game, you know who won. In the warehouse, you can add up the time it took to gather all the items.\n",
    "The number of possible sequences can get enormous. There are around 10100 ways a chess game can unfold. In the warehouse, if you have 20 items to pick up, there are 2 billion possible paths to choose from.\n",
    "Of course, this analogy only goes so far. In chess, for example, you alternate turns with an opponent who is actively trying to thwart your intentions. That doesn’t happen in any warehouse you’d want to work in.\n",
    "\n",
    "In computer science, tree-search algorithms are strategies for looping over many possible sequences of decisions to find the one that leads to the best outcome. In this chapter, we cover tree-search algorithms as they apply to games; many of the principles can extend to other optimization problems as well. We start with the minimax search algorithm, in which you switch perspectives between two opposing players on each turn. The minimax algorithm can find perfect lines of play but is too slow to apply to sophisticated games. Next, we take a look at two techniques for getting a useful result while searching only a tiny fraction of the tree. One of these is pruning: you speed up the search by eliminating sections of the tree. To prune effectively, you need to bring real-world knowledge of the problem into your code. When that’s not possible, you can sometimes apply Monte Carlo tree search (MCTS). MCTS is a randomized search algorithm that can find a good result without any domain-specific code.\n",
    "\n",
    "With these techniques in your toolkit, you can start building AIs that can play a variety of board and card games.\n",
    "\n",
    "4.1. Classifying games\n",
    "Tree-search algorithms are mainly relevant to games where you take turns, and a discrete set of options is available on each turn. Many board and card games fit this description. On the other hand, tree search won’t help a computer play basketball, charades, or World of Warcraft. We can further classify board and card games according to two useful properties:\n",
    "\n",
    "Deterministic vs. nondeterministic— In a deterministic game, the course of the game depends only on the players’ decisions. In a nondeterministic game, an element of randomness is involved, such as rolling dice or shuffling cards.\n",
    "Perfect information vs. hidden information— In perfect information games, both players can see the full game state at all times; the whole board is visible, or everyone’s cards are on the table. In hidden information games, each player can see only part of the game state. Hidden information is common in card games, where each player is dealt a few cards and can’t see what the other players are holding. Part of the appeal of hidden information games is guessing what the other players know based on their game decisions.\n",
    "Table 4.1 shows how several well-known games fit into this taxonomy."
   ]
  }
 ],
 "metadata": {
  "interpreter": {
   "hash": "aee8b7b246df8f9039afb4144a1f6fd8d2ca17a180786b69acc140d282b71a49"
  },
  "kernelspec": {
   "display_name": "Python 3.8.6 64-bit",
   "language": "python",
   "name": "python3"
  },
  "language_info": {
   "name": "python",
   "version": "3.8.6"
  },
  "orig_nbformat": 4
 },
 "nbformat": 4,
 "nbformat_minor": 2
}
